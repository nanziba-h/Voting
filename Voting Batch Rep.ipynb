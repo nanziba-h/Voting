{
 "cells": [
  {
   "cell_type": "markdown",
   "id": "a7b86790",
   "metadata": {},
   "source": [
    "'''\n",
    "--------------------------------------------------------------------------------------------------------\n",
    "This program elects batch representatives for each university academic year based on votes.\n",
    "\n",
    "- Inputs how many academic years we are electing representatives for.\n",
    "- Takes in number and names of the nominees who want to be representatives.\n",
    "- Inputs votes for each nominee.\n",
    "- elects representative based on those votes\n",
    "- Outputs total votes won by each nominee regardless of the academic year\n",
    "\n",
    "--------------------------------------------------------------------------------------------------------\n",
    "'''"
   ]
  },
  {
   "cell_type": "code",
   "execution_count": 1,
   "id": "b48916df",
   "metadata": {},
   "outputs": [],
   "source": [
    "def main():\n",
    "    #input number of groups\n",
    "    group_num = int(input(\"Number of the Academic years to elect representative for: \"))\n",
    "\n",
    "    #input nominee names until user enters an empty string\n",
    "    nominee = []\n",
    "    nominee_num = 0\n",
    "    while True:\n",
    "        nominee_name = str(input(\"Nominee name (press enter when done inputing nominee names): \"))\n",
    "\n",
    "        if nominee_name == \"\":\n",
    "            break\n",
    "\n",
    "        else:\n",
    "            nominee.append(nominee_name)\n",
    "            nominee_num += 1\n",
    "\n",
    "    #print number of finalised nominee names\n",
    "    print(f\"\\n{nominee_num} nominee(s):\")\n",
    "\n",
    "    for i in range(nominee_num):\n",
    "        print(f\"- {nominee[i]}\")\n",
    "\n",
    "\n",
    "    #elect representatives from each academic year\n",
    "    vote_list = elec_rep(group_num, nominee_num, nominee)\n",
    "\n",
    "    #print total votes each nominee won regardless of the year\n",
    "    tot_vote(nominee_num, nominee, vote_list)"
   ]
  },
  {
   "cell_type": "markdown",
   "id": "d4b1fdd8",
   "metadata": {},
   "source": [
    "#-------------------------------------- HELPER FUNCTIONS --------------------------------------------"
   ]
  },
  {
   "cell_type": "code",
   "execution_count": 2,
   "id": "25929958",
   "metadata": {},
   "outputs": [],
   "source": [
    "def elec_rep(group_num, nominee_num, nominee):\n",
    "    vote_list = []\n",
    "    #elect rep based on max vote of nominee\n",
    "    max_vote = 0\n",
    "    print(\"\\n\")\n",
    "\n",
    "    for j in range(group_num):\n",
    "        #ask which academic year we are electing rep for\n",
    "        group_name = str(input(\"Name of Academic year: \"))\n",
    "\n",
    "        #nominee votes for each nominee for that academic year\n",
    "        for k in range(nominee_num):\n",
    "            nominee_vote = int(input(f\"Votes for {nominee[k]}: \"))\n",
    "            #store all nominee votes for that year in a list\n",
    "            vote_list.append(nominee_vote)\n",
    "\n",
    "            #winner\n",
    "            if nominee_vote > max_vote:\n",
    "                max_vote = nominee_vote\n",
    "                winning_nominee = nominee[k]\n",
    "\n",
    "        #re-initialising max vote to zero for next academic year\n",
    "        max_vote = 0\n",
    "\n",
    "        #print who the nominee is with the most votes\n",
    "        print(f\"Batch representative of {group_name} is {winning_nominee}\\n\")\n",
    "\n",
    "    return vote_list\n",
    "\n",
    "\n",
    "\n",
    "def tot_vote(nominee_num, nominee, vote_list):\n",
    "    #total votes won\n",
    "    print(\"Total votes won:\")\n",
    "\n",
    "\n",
    "    for m in range(nominee_num):\n",
    "        #printing total votes for each nominee in a year\n",
    "        print(f\"{nominee[m]}: {sum(vote_list[m::nominee_num])} votes\")\n",
    "        #[m::nominee_num] -> starts at m and skips nominee_num elements in list"
   ]
  },
  {
   "cell_type": "code",
   "execution_count": 3,
   "id": "abde61bd",
   "metadata": {},
   "outputs": [
    {
     "name": "stdout",
     "output_type": "stream",
     "text": [
      "Number of the Academic years to elect representative for: 3\n",
      "Nominee name (press enter when done inputing nominee names): Nanziba\n",
      "Nominee name (press enter when done inputing nominee names): Samiha\n",
      "Nominee name (press enter when done inputing nominee names): Tom\n",
      "Nominee name (press enter when done inputing nominee names): Jerry\n",
      "Nominee name (press enter when done inputing nominee names): \n",
      "\n",
      "4 nominee(s):\n",
      "- Nanziba\n",
      "- Samiha\n",
      "- Tom\n",
      "- Jerry\n",
      "\n",
      "\n",
      "Name of Academic year: UG1\n",
      "Votes for Nanziba: 3\n",
      "Votes for Samiha: 4\n",
      "Votes for Tom: 2\n",
      "Votes for Jerry: 1\n",
      "Batch representative of UG1 is Samiha\n",
      "\n",
      "Name of Academic year: UG2\n",
      "Votes for Nanziba: 3\n",
      "Votes for Samiha: 4\n",
      "Votes for Tom: 2\n",
      "Votes for Jerry: 5\n",
      "Batch representative of UG2 is Jerry\n",
      "\n",
      "Name of Academic year: UG3\n",
      "Votes for Nanziba: 6\n",
      "Votes for Samiha: 3\n",
      "Votes for Tom: 2\n",
      "Votes for Jerry: 1\n",
      "Batch representative of UG3 is Nanziba\n",
      "\n",
      "Total votes won:\n",
      "Nanziba: 12 votes\n",
      "Samiha: 11 votes\n",
      "Tom: 6 votes\n",
      "Jerry: 7 votes\n"
     ]
    }
   ],
   "source": [
    "if __name__ == \"__main__\":\n",
    "    main()"
   ]
  },
  {
   "cell_type": "code",
   "execution_count": null,
   "id": "9797a3d3",
   "metadata": {},
   "outputs": [],
   "source": []
  }
 ],
 "metadata": {
  "kernelspec": {
   "display_name": "Python 3 (ipykernel)",
   "language": "python",
   "name": "python3"
  },
  "language_info": {
   "codemirror_mode": {
    "name": "ipython",
    "version": 3
   },
   "file_extension": ".py",
   "mimetype": "text/x-python",
   "name": "python",
   "nbconvert_exporter": "python",
   "pygments_lexer": "ipython3",
   "version": "3.11.5"
  }
 },
 "nbformat": 4,
 "nbformat_minor": 5
}
